{
 "cells": [
  {
   "cell_type": "code",
   "execution_count": 1,
   "metadata": {},
   "outputs": [],
   "source": [
    "import numpy as np \n",
    "import pandas as pd \n",
    "from sklearn.preprocessing import StandardScaler \n",
    "from sklearn.model_selection import train_test_split, GridSearchCV\n",
    "from sklearn.ensemble import RandomForestClassifier, GradientBoostingClassifier\n",
    "from sklearn.metrics import accuracy_score \n",
    "from sklearn import svm"
   ]
  },
  {
   "cell_type": "code",
   "execution_count": 2,
   "metadata": {},
   "outputs": [],
   "source": [
    "diabetes_dataset = pd.read_csv('diabetes.csv')"
   ]
  },
  {
   "cell_type": "code",
   "execution_count": 3,
   "metadata": {},
   "outputs": [],
   "source": [
    "X = diabetes_dataset.drop(columns = 'Outcome', axis=1) # Strong all the columns except 'Outcome' column.\n",
    "Y = diabetes_dataset['Outcome'] # Store the 'Outcome' column in Y."
   ]
  },
  {
   "cell_type": "code",
   "execution_count": 4,
   "metadata": {},
   "outputs": [],
   "source": [
    "scaler = StandardScaler() \n",
    "X = scaler.fit_transform(X) # Fitting and transforming all the inconsistent data into a standard range."
   ]
  },
  {
   "cell_type": "code",
   "execution_count": 5,
   "metadata": {},
   "outputs": [],
   "source": [
    "X_train, X_test, Y_train, Y_test = train_test_split(X, Y, test_size=0.2, stratify=Y, random_state=2) # Splitting the data into training and testing sets."
   ]
  },
  {
   "cell_type": "code",
   "execution_count": 6,
   "metadata": {},
   "outputs": [],
   "source": [
    "def train_and_evaluate_model(classifier, X_train, Y_train, X_test, Y_test):\n",
    "    classifier.fit(X_train, Y_train) # Training the model.\n",
    "    \n",
    "    X_train_prediction = classifier.predict(X_train) # Predicting the training data.\n",
    "    training_accuracy = accuracy_score(Y_train, X_train_prediction) # Calculating the accuracy of the model on the training data.\n",
    "    \n",
    "    X_test_prediction = classifier.predict(X_test) # Predicting the testing data.\n",
    "    testing_accuracy = accuracy_score(Y_test, X_test_prediction) # Calculating the accuracy of the model on the testing data.\n",
    "    \n",
    "    return training_accuracy, testing_accuracy, classifier"
   ]
  },
  {
   "cell_type": "code",
   "execution_count": 7,
   "metadata": {},
   "outputs": [],
   "source": [
    "def random_forest_classifier(X_train, Y_train, X_test, Y_test):\n",
    "    param_grid = {\n",
    "        'n_estimators': [50, 100, 200],\n",
    "        'max_depth': [None, 10, 20, 30],\n",
    "        'min_samples_split': [2, 5, 10],\n",
    "        'min_samples_leaf': [1, 2, 4]\n",
    "    } # Hyperparameters for the Random Forest Classifier.\n",
    "    \n",
    "    classifier = RandomForestClassifier(random_state=2) # Creating a Random Forest Classifier.\n",
    "    grid_search = GridSearchCV(estimator=classifier, param_grid=param_grid, cv=5, n_jobs=-1, verbose=2, scoring='accuracy') # Creating a Grid Search CV object.\n",
    "    grid_search.fit(X_train, Y_train) # Fitting the Grid Search CV object.\n",
    "    \n",
    "    best_classifier = grid_search.best_estimator_ # Getting the best classifier.\n",
    "    \n",
    "    return train_and_evaluate_model(best_classifier, X_train, Y_train, X_test, Y_test) \n"
   ]
  },
  {
   "cell_type": "code",
   "execution_count": 8,
   "metadata": {},
   "outputs": [],
   "source": [
    "def svm_classifier(X_train, Y_train, X_test, Y_test):\n",
    "    classifier = svm.SVC(kernel='linear') # Creating a SVM Classifier.\n",
    "    \n",
    "    return train_and_evaluate_model(classifier, X_train, Y_train, X_test, Y_test)\n"
   ]
  },
  {
   "cell_type": "code",
   "execution_count": 9,
   "metadata": {},
   "outputs": [],
   "source": [
    "def gradient_boosting_classifier(X_train, Y_train, X_test, Y_test):\n",
    "    classifier = GradientBoostingClassifier(random_state=2) # Creating a Gradient Boosting Classifier.\n",
    "    \n",
    "    return train_and_evaluate_model(classifier, X_train, Y_train, X_test, Y_test)"
   ]
  },
  {
   "cell_type": "code",
   "execution_count": 10,
   "metadata": {},
   "outputs": [],
   "source": [
    "def evaluate_models(models, X, Y):\n",
    "    X_train, X_test, Y_train, Y_test = train_test_split(X, Y, test_size=0.2, stratify=Y, random_state=2) # Splitting the data into training and testing sets.\n",
    "    \n",
    "    results = {}\n",
    "    best_model_name = None\n",
    "    best_testing_accuracy = 0\n",
    "    best_model = None\n",
    "    \n",
    "    for model_name, model_function in models.items():\n",
    "        training_accuracy, testing_accuracy, trained_model = model_function(X_train, Y_train, X_test, Y_test) \n",
    "        results[model_name] = {\n",
    "            \"Training Accuracy\": training_accuracy,\n",
    "            \"Testing Accuracy\": testing_accuracy\n",
    "        }\n",
    "        \n",
    "        if testing_accuracy > best_testing_accuracy:\n",
    "            best_testing_accuracy = testing_accuracy\n",
    "            best_model_name = model_name\n",
    "            best_model = trained_model\n",
    "    \n",
    "    return results, best_model_name, best_model"
   ]
  },
  {
   "cell_type": "code",
   "execution_count": 11,
   "metadata": {},
   "outputs": [],
   "source": [
    "models = {\n",
    "    \"Random Forest\": random_forest_classifier,\n",
    "    \"SVM\": svm_classifier,\n",
    "    \"Gradient Boosting\": gradient_boosting_classifier\n",
    "}"
   ]
  },
  {
   "cell_type": "code",
   "execution_count": null,
   "metadata": {},
   "outputs": [],
   "source": [
    "results, best_model_name, best_model = evaluate_models(models, X, Y) # Evaluating the models."
   ]
  },
  {
   "cell_type": "code",
   "execution_count": 13,
   "metadata": {},
   "outputs": [
    {
     "name": "stdout",
     "output_type": "stream",
     "text": [
      "Random Forest: Training Accuracy = 0.9609, Testing Accuracy = 0.7273\n",
      "SVM: Training Accuracy = 0.7866, Testing Accuracy = 0.7727\n",
      "Gradient Boosting: Training Accuracy = 0.9251, Testing Accuracy = 0.7013\n",
      "\n",
      "Best model based on testing accuracy: SVM\n"
     ]
    }
   ],
   "source": [
    "for model_name, accuracies in results.items():\n",
    "    print(f\"{model_name}: Training Accuracy = {accuracies['Training Accuracy']:.4f}, Testing Accuracy = {accuracies['Testing Accuracy']:.4f}\")\n",
    "\n",
    "print(f\"\\nBest model based on testing accuracy: {best_model_name}\")"
   ]
  },
  {
   "cell_type": "code",
   "execution_count": 14,
   "metadata": {},
   "outputs": [],
   "source": [
    "def predict_input_data(input_data):\n",
    "    \n",
    "    # Convert input data to numpy array and reshaping the numpy array as we are predicting for one instance.\n",
    "    input_data_as_numpy_array = np.asarray(input_data)\n",
    "    input_data_reshaped = input_data_as_numpy_array.reshape(1, -1)\n",
    "    \n",
    "    # Convert input data to a DataFrame with the original feature names\n",
    "    input_data_df = pd.DataFrame(input_data_reshaped, columns=diabetes_dataset.columns[:-1])\n",
    "    \n",
    "    # Standardize the input data\n",
    "    input_data_standardized = scaler.transform(input_data_df)\n",
    "    \n",
    "    # Predict using the best model\n",
    "    prediction = best_model.predict(input_data_standardized)\n",
    "    \n",
    "    return prediction"
   ]
  },
  {
   "cell_type": "code",
   "execution_count": 15,
   "metadata": {},
   "outputs": [
    {
     "name": "stdout",
     "output_type": "stream",
     "text": [
      "\n",
      "Prediction: [1]\n"
     ]
    }
   ],
   "source": [
    "input_data = (5,166,72,19,175,25.8,0.587,51)\n",
    "\n",
    "prediction = predict_input_data(input_data)\n",
    "\n",
    "print(f\"\\nPrediction: {prediction}\")"
   ]
  },
  {
   "cell_type": "code",
   "execution_count": null,
   "metadata": {},
   "outputs": [],
   "source": []
  }
 ],
 "metadata": {
  "kernelspec": {
   "display_name": "Python 3",
   "language": "python",
   "name": "python3"
  },
  "language_info": {
   "codemirror_mode": {
    "name": "ipython",
    "version": 3
   },
   "file_extension": ".py",
   "mimetype": "text/x-python",
   "name": "python",
   "nbconvert_exporter": "python",
   "pygments_lexer": "ipython3",
   "version": "3.12.3"
  }
 },
 "nbformat": 4,
 "nbformat_minor": 2
}
